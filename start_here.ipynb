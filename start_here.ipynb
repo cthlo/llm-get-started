{
 "cells": [
  {
   "cell_type": "code",
   "execution_count": null,
   "metadata": {},
   "outputs": [],
   "source": [
    "from openai import AzureOpenAI\n",
    "\n",
    "client = AzureOpenAI(\n",
    "    # see https://learn.microsoft.com/en-us/azure/ai-services/openai/reference\n",
    "    api_version=\"2023-09-01-preview\",\n",
    "    azure_endpoint=\"https://hansonlo-test-sweden-central.openai.azure.com\",\n",
    ")"
   ]
  },
  {
   "cell_type": "code",
   "execution_count": null,
   "metadata": {},
   "outputs": [],
   "source": [
    "client.completions.create(\n",
    "    model=\"gpt-35-turbo-instruct\",\n",
    "    prompt=\"The quick brown fox jumps over \",\n",
    ").model_dump()"
   ]
  }
 ],
 "metadata": {
  "kernelspec": {
   "display_name": "Python 3",
   "language": "python",
   "name": "python3"
  },
  "language_info": {
   "codemirror_mode": {
    "name": "ipython",
    "version": 3
   },
   "file_extension": ".py",
   "mimetype": "text/x-python",
   "name": "python",
   "nbconvert_exporter": "python",
   "pygments_lexer": "ipython3",
   "version": "3.12.1"
  }
 },
 "nbformat": 4,
 "nbformat_minor": 2
}
